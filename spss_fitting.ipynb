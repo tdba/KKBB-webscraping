{
 "cells": [
  {
   "cell_type": "markdown",
   "metadata": {},
   "source": [
    "# Imports "
   ]
  },
  {
   "cell_type": "code",
   "execution_count": 1,
   "metadata": {},
   "outputs": [
    {
     "ename": "ModuleNotFoundError",
     "evalue": "No module named 'bs4'",
     "output_type": "error",
     "traceback": [
      "\u001b[1;31m---------------------------------------------------------------------------\u001b[0m",
      "\u001b[1;31mModuleNotFoundError\u001b[0m                       Traceback (most recent call last)",
      "\u001b[1;32m<ipython-input-1-8f7bfcdae4b0>\u001b[0m in \u001b[0;36m<module>\u001b[1;34m\u001b[0m\n\u001b[0;32m      2\u001b[0m \u001b[1;32mfrom\u001b[0m \u001b[0mtime\u001b[0m \u001b[1;32mimport\u001b[0m \u001b[0msleep\u001b[0m\u001b[1;33m\u001b[0m\u001b[1;33m\u001b[0m\u001b[0m\n\u001b[0;32m      3\u001b[0m \u001b[1;32mfrom\u001b[0m \u001b[0mrandom\u001b[0m \u001b[1;32mimport\u001b[0m \u001b[0mrandint\u001b[0m\u001b[1;33m\u001b[0m\u001b[1;33m\u001b[0m\u001b[0m\n\u001b[1;32m----> 4\u001b[1;33m \u001b[1;32mfrom\u001b[0m \u001b[0mbs4\u001b[0m \u001b[1;32mimport\u001b[0m \u001b[0mBeautifulSoup\u001b[0m\u001b[1;33m\u001b[0m\u001b[1;33m\u001b[0m\u001b[0m\n\u001b[0m\u001b[0;32m      5\u001b[0m \u001b[1;33m\u001b[0m\u001b[0m\n\u001b[0;32m      6\u001b[0m \u001b[1;33m\u001b[0m\u001b[0m\n",
      "\u001b[1;31mModuleNotFoundError\u001b[0m: No module named 'bs4'"
     ]
    }
   ],
   "source": [
    "from math import ceil\n",
    "from time import sleep\n",
    "from random import randint\n",
    "from bs4 import BeautifulSoup\n",
    "\n",
    "\n",
    "from selenium import webdriver\n",
    "from selenium.common.exceptions import NoSuchElementException\n",
    "from selenium.webdriver.support import expected_conditions as EC\n",
    "from selenium.webdriver.support.ui import WebDriverWait\n",
    "from selenium.webdriver.common.by import By\n",
    "from webdriver_manager.chrome import ChromeDriverManager\n",
    "\n",
    "import pandas as pd\n",
    "import numpy as np\n",
    "import requests\n",
    "import json\n",
    "import pickle\n"
   ]
  },
  {
   "cell_type": "markdown",
   "metadata": {},
   "source": [
    "# SPSS Fitting"
   ]
  },
  {
   "cell_type": "markdown",
   "metadata": {},
   "source": [
    "## Macro"
   ]
  },
  {
   "cell_type": "code",
   "execution_count": 165,
   "metadata": {},
   "outputs": [],
   "source": [
    "with open('data/campaigns.pkl', 'rb') as f:\n",
    "    projects = pickle.load(f)"
   ]
  },
  {
   "cell_type": "code",
   "execution_count": 166,
   "metadata": {},
   "outputs": [],
   "source": [
    "STIMULI = ['continuez', 'partager', 'partagez', 'on compte sur vous', 'parlez', 'likez', 'contribuer', 'contribuez',\n",
    "           'aidez', 'soutenez', 'share', 'likez', 'donnez', 'persuadez', 'j-']"
   ]
  },
  {
   "cell_type": "code",
   "execution_count": 183,
   "metadata": {},
   "outputs": [],
   "source": [
    "for p in projects:\n",
    "    # DONATIONS\n",
    "    p.num_don = len(p.donations)\n",
    "    amounts = [don.amount for don in p.donations if not type(don) is str]\n",
    "    p.mean_don = sum(amounts)/len(amounts)\n",
    "    p.jump_1 = 0\n",
    "    p.jump_mean = 0\n",
    "    for d in p.donations:\n",
    "        if d.amount > 1:\n",
    "            p.jump_1 += 1\n",
    "        if d.amount > p.mean_don:\n",
    "            p.jump_mean +=1\n",
    "    \n",
    "    # ACTUALITIES\n",
    "    p.num_pers = 0\n",
    "    p.num_info = 0\n",
    "    response = requests.get(p.link + '/tabs/description')\n",
    "    sleep(randint(0, 4))\n",
    "    while response.status_code != 200:\n",
    "        response = requests.get(p.link + '/tabs/description')\n",
    "        sleep(randint(0, 4))\n",
    "    soup = BeautifulSoup(response.content, 'html5lib')\n",
    "    sub_prompt = soup.find_all('div', class_='gDdVEG')\n",
    "    p.end_date = pd.to_datetime(prompt[1].text, format='%d/%m/%Y')\n",
    "    for actu in p.actualities:\n",
    "        if actu.date > p.end_date:\n",
    "            actu.kind = 'oos'\n",
    "        else:\n",
    "            if any(stimulus in text for stimulus in STIMULI for text in [actu.content.lower(), actu.title.lower()]):\n",
    "                actu.kind = 'pers'\n",
    "                p.num_pers += 1\n",
    "            else:\n",
    "                actu.kind = 'inf'\n",
    "                p.num_info += 1"
   ]
  },
  {
   "cell_type": "code",
   "execution_count": 169,
   "metadata": {},
   "outputs": [],
   "source": [
    "campaigns = [[c.link, c.title, c.description, c.project_holder, c.current_amount, c.aimed_amount, c.nb_contrib, c.complation_rate, c.catefories, c.comments, c.num_pers, c.num_info, c.end_date, c.num_don, c.mean_don, c.jump_1, c.jump_mean] for c in projects]"
   ]
  },
  {
   "cell_type": "code",
   "execution_count": 170,
   "metadata": {},
   "outputs": [],
   "source": [
    "df = pd.DataFrame(campaigns, columns=['link', 'title', 'desc', 'project_holder', 'amount', 'aimed_amount', 'nb_contrib', 'completion_rate', 'categories', 'comments', 'num_pers', 'num_info', 'end_date', 'num_don', 'mean_don', 'num_jump_1', 'num_jump_mean'])"
   ]
  },
  {
   "cell_type": "code",
   "execution_count": 171,
   "metadata": {},
   "outputs": [],
   "source": [
    "df.loc[:, 'nb_actus'] = df.num_pers + df.num_info\n",
    "df.loc[:, 'duration'] = 60\n",
    "df.loc[:, 'over_success'] = df.completion_rate > 105\n",
    "df.loc[:, 'start_date'] = df.end_date - pd.to_timedelta(df.duration, unit='D')\n",
    "df.loc[:, 'nb_max_reward_lvl'] = ''\n",
    "df.loc[:, 'facebook'] = ''\n",
    "df.loc[:, 'nb_likes_fb'] = ''\n",
    "df.loc[:, 'other_projects'] = ''"
   ]
  },
  {
   "cell_type": "code",
   "execution_count": 172,
   "metadata": {
    "scrolled": true
   },
   "outputs": [],
   "source": [
    "cats = []\n",
    "for c in set(df.categories):\n",
    "    cats.extend(c.split(', '))\n",
    "cats = list(set(cats))\n",
    "\n",
    "for cat in cats:\n",
    "    df.loc[:, cat] = df.categories.str.contains(cat)"
   ]
  },
  {
   "cell_type": "code",
   "execution_count": 173,
   "metadata": {},
   "outputs": [],
   "source": [
    "df.to_csv('data/output/macro.csv', sep=';')"
   ]
  },
  {
   "cell_type": "markdown",
   "metadata": {},
   "source": [
    "## Micro"
   ]
  },
  {
   "cell_type": "code",
   "execution_count": 185,
   "metadata": {},
   "outputs": [],
   "source": [
    "cols = [ 'jump_1_j', 'jump_1_j_nb', \n",
    "        'jump_avg_j', 'jump_avg_j_nb']\n"
   ]
  },
  {
   "cell_type": "code",
   "execution_count": 225,
   "metadata": {},
   "outputs": [
    {
     "name": "stdout",
     "output_type": "stream",
     "text": [
      "[datetime.date(2020, 5, 7)]\n",
      "dict_keys([datetime.date(2020, 6, 9), datetime.date(2020, 6, 13), datetime.date(2020, 7, 6), datetime.date(2020, 6, 27), datetime.date(2020, 5, 27), datetime.date(2020, 5, 21), datetime.date(2020, 6, 8), datetime.date(2020, 5, 22), datetime.date(2020, 7, 5), datetime.date(2020, 6, 22), datetime.date(2020, 6, 26), datetime.date(2020, 6, 7), datetime.date(2020, 6, 14), datetime.date(2020, 6, 6), datetime.date(2020, 6, 5), datetime.date(2020, 5, 26), datetime.date(2020, 5, 20), datetime.date(2020, 6, 16), datetime.date(2020, 5, 24), datetime.date(2020, 6, 2), datetime.date(2020, 6, 15), datetime.date(2020, 6, 28), datetime.date(2020, 6, 4), datetime.date(2020, 7, 8)])\n",
      "[datetime.date(2020, 5, 7)]\n",
      "dict_keys([datetime.date(2020, 7, 7), datetime.date(2020, 6, 9), datetime.date(2020, 6, 11), datetime.date(2020, 6, 10), datetime.date(2020, 6, 13), datetime.date(2020, 7, 3), datetime.date(2020, 7, 6), datetime.date(2020, 6, 30), datetime.date(2020, 6, 19), datetime.date(2020, 6, 3), datetime.date(2020, 6, 8), datetime.date(2020, 6, 17), datetime.date(2020, 7, 5), datetime.date(2020, 6, 22), datetime.date(2020, 6, 26), datetime.date(2020, 6, 12), datetime.date(2020, 6, 7), datetime.date(2020, 7, 1), datetime.date(2020, 7, 4), datetime.date(2020, 6, 14), datetime.date(2020, 6, 6), datetime.date(2020, 6, 21), datetime.date(2020, 6, 5), datetime.date(2020, 7, 2), datetime.date(2020, 6, 2), datetime.date(2020, 6, 15), datetime.date(2020, 6, 23), datetime.date(2020, 6, 4), datetime.date(2020, 7, 8)])\n",
      "[datetime.date(2020, 5, 7)]\n",
      "dict_keys([datetime.date(2020, 7, 7), datetime.date(2020, 6, 9), datetime.date(2020, 6, 10), datetime.date(2020, 6, 13), datetime.date(2020, 7, 3), datetime.date(2020, 6, 29), datetime.date(2020, 7, 6), datetime.date(2020, 6, 27), datetime.date(2020, 6, 30), datetime.date(2020, 6, 19), datetime.date(2020, 6, 8), datetime.date(2020, 6, 17), datetime.date(2020, 6, 20), datetime.date(2020, 6, 22), datetime.date(2020, 6, 12), datetime.date(2020, 6, 24), datetime.date(2020, 7, 1), datetime.date(2020, 7, 4), datetime.date(2020, 6, 21), datetime.date(2020, 7, 2), datetime.date(2020, 6, 16), datetime.date(2020, 6, 23)])\n",
      "[datetime.date(2020, 5, 7)]\n",
      "dict_keys([datetime.date(2020, 7, 7), datetime.date(2020, 6, 9), datetime.date(2020, 6, 11), datetime.date(2020, 6, 10), datetime.date(2020, 6, 13), datetime.date(2020, 7, 3), datetime.date(2020, 6, 29), datetime.date(2020, 7, 6), datetime.date(2020, 6, 27), datetime.date(2020, 5, 27), datetime.date(2020, 5, 28), datetime.date(2020, 6, 19), datetime.date(2020, 6, 3), datetime.date(2020, 6, 8), datetime.date(2020, 6, 30), datetime.date(2020, 6, 17), datetime.date(2020, 6, 1), datetime.date(2020, 6, 22), datetime.date(2020, 6, 26), datetime.date(2020, 6, 12), datetime.date(2020, 6, 24), datetime.date(2020, 6, 7), datetime.date(2020, 6, 25), datetime.date(2020, 7, 1), datetime.date(2020, 7, 4), datetime.date(2020, 6, 14), datetime.date(2020, 6, 6), datetime.date(2020, 6, 5), datetime.date(2020, 5, 29), datetime.date(2020, 5, 31), datetime.date(2020, 6, 18), datetime.date(2020, 5, 30), datetime.date(2020, 7, 2), datetime.date(2020, 6, 16), datetime.date(2020, 6, 2), datetime.date(2020, 6, 28), datetime.date(2020, 6, 23), datetime.date(2020, 6, 4), datetime.date(2020, 7, 8)])\n",
      "[datetime.date(2020, 5, 7)]\n",
      "dict_keys([datetime.date(2020, 6, 9), datetime.date(2020, 6, 11), datetime.date(2020, 6, 10), datetime.date(2020, 5, 19), datetime.date(2020, 5, 28), datetime.date(2020, 5, 27), datetime.date(2020, 6, 19), datetime.date(2020, 5, 21), datetime.date(2020, 6, 3), datetime.date(2020, 6, 8), datetime.date(2020, 5, 22), datetime.date(2020, 6, 17), datetime.date(2020, 6, 20), datetime.date(2020, 6, 1), datetime.date(2020, 5, 23), datetime.date(2020, 6, 22), datetime.date(2020, 6, 12), datetime.date(2020, 6, 24), datetime.date(2020, 6, 7), datetime.date(2020, 7, 1), datetime.date(2020, 5, 17), datetime.date(2020, 5, 15), datetime.date(2020, 6, 6), datetime.date(2020, 6, 21), datetime.date(2020, 5, 29), datetime.date(2020, 5, 26), datetime.date(2020, 5, 20), datetime.date(2020, 6, 16), datetime.date(2020, 5, 24), datetime.date(2020, 5, 18), datetime.date(2020, 6, 2), datetime.date(2020, 6, 15), datetime.date(2020, 6, 23), datetime.date(2020, 5, 16), datetime.date(2020, 6, 4), datetime.date(2020, 5, 25)])\n",
      "[datetime.date(2020, 5, 7)]\n",
      "dict_keys([datetime.date(2020, 7, 7), datetime.date(2020, 6, 11), datetime.date(2020, 6, 10), datetime.date(2020, 6, 13), datetime.date(2020, 7, 3), datetime.date(2020, 6, 29), datetime.date(2020, 7, 6), datetime.date(2020, 6, 27), datetime.date(2020, 6, 30), datetime.date(2020, 6, 19), datetime.date(2020, 6, 17), datetime.date(2020, 6, 20), datetime.date(2020, 7, 9), datetime.date(2020, 6, 26), datetime.date(2020, 6, 12), datetime.date(2020, 6, 24), datetime.date(2020, 6, 25), datetime.date(2020, 7, 1), datetime.date(2020, 6, 14), datetime.date(2020, 6, 21), datetime.date(2020, 6, 18), datetime.date(2020, 7, 2), datetime.date(2020, 6, 16), datetime.date(2020, 6, 15), datetime.date(2020, 6, 28), datetime.date(2020, 7, 8)])\n",
      "[datetime.date(2020, 5, 7)]\n",
      "dict_keys([datetime.date(2020, 7, 7), datetime.date(2020, 6, 9), datetime.date(2020, 6, 11), datetime.date(2020, 6, 10), datetime.date(2020, 6, 13), datetime.date(2020, 7, 3), datetime.date(2020, 6, 29), datetime.date(2020, 7, 6), datetime.date(2020, 6, 27), datetime.date(2020, 6, 30), datetime.date(2020, 6, 19), datetime.date(2020, 6, 3), datetime.date(2020, 6, 8), datetime.date(2020, 6, 17), datetime.date(2020, 6, 20), datetime.date(2020, 7, 5), datetime.date(2020, 6, 12), datetime.date(2020, 6, 7), datetime.date(2020, 6, 14), datetime.date(2020, 6, 6), datetime.date(2020, 6, 21), datetime.date(2020, 6, 5), datetime.date(2020, 6, 18), datetime.date(2020, 7, 2), datetime.date(2020, 6, 16), datetime.date(2020, 6, 2), datetime.date(2020, 6, 15), datetime.date(2020, 6, 28), datetime.date(2020, 7, 8)])\n",
      "[datetime.date(2020, 5, 7)]\n",
      "dict_keys([datetime.date(2020, 7, 7), datetime.date(2020, 6, 11), datetime.date(2020, 6, 9), datetime.date(2020, 6, 10), datetime.date(2020, 6, 13), datetime.date(2020, 7, 3), datetime.date(2020, 6, 29), datetime.date(2020, 7, 6), datetime.date(2020, 6, 27), datetime.date(2020, 6, 30), datetime.date(2020, 6, 19), datetime.date(2020, 6, 8), datetime.date(2020, 6, 20), datetime.date(2020, 7, 5), datetime.date(2020, 6, 22), datetime.date(2020, 6, 26), datetime.date(2020, 6, 12), datetime.date(2020, 6, 24), datetime.date(2020, 6, 7), datetime.date(2020, 6, 25), datetime.date(2020, 7, 1), datetime.date(2020, 7, 4), datetime.date(2020, 6, 14), datetime.date(2020, 6, 21), datetime.date(2020, 6, 18), datetime.date(2020, 7, 2), datetime.date(2020, 6, 16), datetime.date(2020, 6, 15), datetime.date(2020, 6, 23), datetime.date(2020, 6, 28)])\n",
      "[datetime.date(2020, 5, 7)]\n",
      "dict_keys([datetime.date(2020, 4, 24), datetime.date(2020, 7, 3), datetime.date(2020, 4, 22), datetime.date(2020, 4, 30), datetime.date(2020, 5, 9), datetime.date(2020, 6, 19), datetime.date(2020, 6, 3), datetime.date(2020, 6, 20), datetime.date(2020, 7, 9), datetime.date(2020, 6, 1), datetime.date(2020, 5, 8), datetime.date(2020, 5, 6), datetime.date(2020, 5, 12), datetime.date(2020, 5, 1), datetime.date(2020, 5, 17), datetime.date(2020, 4, 26), datetime.date(2020, 4, 28), datetime.date(2020, 4, 25), datetime.date(2020, 5, 4), datetime.date(2020, 4, 27), datetime.date(2020, 4, 29), datetime.date(2020, 5, 29), datetime.date(2020, 6, 5), datetime.date(2020, 5, 20), datetime.date(2020, 5, 26), datetime.date(2020, 5, 31), datetime.date(2020, 5, 13), datetime.date(2020, 5, 11), datetime.date(2020, 5, 14), datetime.date(2020, 4, 21), datetime.date(2020, 6, 4), datetime.date(2020, 5, 3), datetime.date(2020, 5, 2), datetime.date(2020, 4, 23)])\n",
      "[datetime.date(2020, 5, 7)]\n",
      "dict_keys([datetime.date(2020, 6, 10), datetime.date(2020, 6, 29), datetime.date(2020, 5, 19), datetime.date(2020, 6, 27), datetime.date(2020, 5, 9), datetime.date(2020, 5, 27), datetime.date(2020, 5, 28), datetime.date(2020, 6, 19), datetime.date(2020, 5, 21), datetime.date(2020, 5, 22), datetime.date(2020, 5, 10), datetime.date(2020, 6, 20), datetime.date(2020, 7, 5), datetime.date(2020, 6, 1), datetime.date(2020, 5, 8), datetime.date(2020, 5, 23), datetime.date(2020, 5, 6), datetime.date(2020, 6, 12), datetime.date(2020, 6, 24), datetime.date(2020, 5, 12), datetime.date(2020, 7, 4), datetime.date(2020, 5, 17), datetime.date(2020, 6, 14), datetime.date(2020, 5, 15), datetime.date(2020, 6, 6), datetime.date(2020, 6, 5), datetime.date(2020, 5, 29), datetime.date(2020, 5, 20), datetime.date(2020, 5, 26), datetime.date(2020, 5, 31), datetime.date(2020, 6, 18), datetime.date(2020, 5, 13), datetime.date(2020, 5, 11), datetime.date(2020, 5, 30), datetime.date(2020, 5, 14), datetime.date(2020, 5, 24), datetime.date(2020, 6, 2), datetime.date(2020, 6, 23), datetime.date(2020, 5, 7), datetime.date(2020, 5, 16), datetime.date(2020, 6, 4), datetime.date(2020, 5, 25)])\n",
      "[datetime.date(2020, 5, 7)]\n",
      "dict_keys([datetime.date(2020, 6, 9), datetime.date(2020, 6, 11), datetime.date(2020, 6, 10), datetime.date(2020, 6, 13), datetime.date(2020, 7, 3), datetime.date(2020, 6, 29), datetime.date(2020, 6, 27), datetime.date(2020, 6, 30), datetime.date(2020, 6, 19), datetime.date(2020, 6, 8), datetime.date(2020, 6, 17), datetime.date(2020, 6, 20), datetime.date(2020, 7, 5), datetime.date(2020, 6, 22), datetime.date(2020, 6, 26), datetime.date(2020, 6, 12), datetime.date(2020, 6, 24), datetime.date(2020, 6, 7), datetime.date(2020, 6, 25), datetime.date(2020, 7, 1), datetime.date(2020, 7, 4), datetime.date(2020, 6, 14), datetime.date(2020, 6, 6), datetime.date(2020, 6, 21), datetime.date(2020, 6, 5), datetime.date(2020, 6, 18), datetime.date(2020, 7, 2), datetime.date(2020, 6, 16), datetime.date(2020, 6, 15), datetime.date(2020, 6, 23), datetime.date(2020, 6, 28)])\n",
      "[datetime.date(2020, 5, 7)]\n",
      "dict_keys([datetime.date(2020, 6, 9), datetime.date(2020, 6, 11), datetime.date(2020, 6, 10), datetime.date(2020, 4, 30), datetime.date(2020, 5, 19), datetime.date(2020, 5, 9), datetime.date(2020, 5, 27), datetime.date(2020, 5, 28), datetime.date(2020, 5, 21), datetime.date(2020, 6, 3), datetime.date(2020, 5, 22), datetime.date(2020, 5, 10), datetime.date(2020, 6, 1), datetime.date(2020, 5, 8), datetime.date(2020, 5, 6), datetime.date(2020, 5, 23), datetime.date(2020, 5, 1), datetime.date(2020, 5, 17), datetime.date(2020, 4, 28), datetime.date(2020, 5, 15), datetime.date(2020, 6, 6), datetime.date(2020, 5, 4), datetime.date(2020, 4, 27), datetime.date(2020, 4, 29), datetime.date(2020, 5, 29), datetime.date(2020, 6, 5), datetime.date(2020, 5, 31), datetime.date(2020, 5, 13), datetime.date(2020, 5, 11), datetime.date(2020, 5, 30), datetime.date(2020, 5, 3), datetime.date(2020, 5, 24), datetime.date(2020, 5, 18), datetime.date(2020, 6, 2), datetime.date(2020, 5, 5), datetime.date(2020, 5, 7), datetime.date(2020, 5, 2)])\n",
      "[datetime.date(2020, 5, 7)]\n",
      "dict_keys([datetime.date(2020, 6, 9), datetime.date(2020, 6, 11), datetime.date(2020, 6, 10), datetime.date(2020, 6, 13), datetime.date(2020, 7, 3), datetime.date(2020, 6, 29), datetime.date(2020, 6, 27), datetime.date(2020, 5, 28), datetime.date(2020, 5, 27), datetime.date(2020, 6, 19), datetime.date(2020, 5, 21), datetime.date(2020, 6, 3), datetime.date(2020, 6, 8), datetime.date(2020, 5, 22), datetime.date(2020, 6, 30), datetime.date(2020, 6, 17), datetime.date(2020, 6, 20), datetime.date(2020, 6, 1), datetime.date(2020, 5, 23), datetime.date(2020, 6, 22), datetime.date(2020, 6, 26), datetime.date(2020, 6, 12), datetime.date(2020, 6, 24), datetime.date(2020, 6, 7), datetime.date(2020, 6, 25), datetime.date(2020, 7, 1), datetime.date(2020, 7, 4), datetime.date(2020, 6, 14), datetime.date(2020, 6, 6), datetime.date(2020, 6, 21), datetime.date(2020, 6, 5), datetime.date(2020, 5, 29), datetime.date(2020, 5, 26), datetime.date(2020, 5, 31), datetime.date(2020, 6, 18), datetime.date(2020, 5, 30), datetime.date(2020, 6, 16), datetime.date(2020, 5, 24), datetime.date(2020, 6, 2), datetime.date(2020, 6, 15), datetime.date(2020, 6, 23), datetime.date(2020, 6, 28), datetime.date(2020, 6, 4), datetime.date(2020, 5, 25)])\n",
      "[datetime.date(2020, 5, 7)]\n",
      "dict_keys([datetime.date(2020, 7, 1), datetime.date(2020, 6, 19), datetime.date(2020, 5, 30), datetime.date(2020, 5, 27), datetime.date(2020, 6, 8), datetime.date(2020, 6, 9), datetime.date(2020, 6, 11), datetime.date(2020, 6, 12), datetime.date(2020, 7, 4), datetime.date(2020, 6, 4), datetime.date(2020, 6, 20), datetime.date(2020, 6, 2), datetime.date(2020, 7, 3), datetime.date(2020, 6, 5), datetime.date(2020, 5, 29), datetime.date(2020, 5, 26), datetime.date(2020, 5, 31), datetime.date(2020, 5, 28)])\n",
      "[datetime.date(2020, 5, 7)]\n",
      "dict_keys([datetime.date(2020, 6, 9), datetime.date(2020, 6, 10), datetime.date(2020, 6, 13), datetime.date(2020, 7, 3), datetime.date(2020, 6, 29), datetime.date(2020, 5, 27), datetime.date(2020, 5, 28), datetime.date(2020, 6, 30), datetime.date(2020, 6, 3), datetime.date(2020, 6, 8), datetime.date(2020, 6, 20), datetime.date(2020, 7, 5), datetime.date(2020, 6, 1), datetime.date(2020, 6, 26), datetime.date(2020, 6, 12), datetime.date(2020, 6, 7), datetime.date(2020, 6, 25), datetime.date(2020, 7, 1), datetime.date(2020, 7, 4), datetime.date(2020, 6, 14), datetime.date(2020, 6, 6), datetime.date(2020, 6, 5), datetime.date(2020, 5, 29), datetime.date(2020, 5, 26), datetime.date(2020, 6, 18), datetime.date(2020, 5, 30), datetime.date(2020, 7, 2), datetime.date(2020, 6, 16), datetime.date(2020, 6, 2), datetime.date(2020, 6, 15), datetime.date(2020, 6, 4)])\n",
      "[datetime.date(2020, 5, 7)]\n",
      "dict_keys([datetime.date(2020, 6, 9), datetime.date(2020, 6, 11), datetime.date(2020, 6, 10), datetime.date(2020, 6, 13), datetime.date(2020, 7, 3), datetime.date(2020, 6, 29), datetime.date(2020, 6, 27), datetime.date(2020, 6, 30), datetime.date(2020, 6, 19), datetime.date(2020, 6, 3), datetime.date(2020, 6, 8), datetime.date(2020, 6, 17), datetime.date(2020, 6, 20), datetime.date(2020, 7, 5), datetime.date(2020, 6, 1), datetime.date(2020, 6, 22), datetime.date(2020, 6, 26), datetime.date(2020, 6, 12), datetime.date(2020, 6, 7), datetime.date(2020, 6, 25), datetime.date(2020, 7, 1), datetime.date(2020, 7, 4), datetime.date(2020, 6, 14), datetime.date(2020, 6, 6), datetime.date(2020, 6, 5), datetime.date(2020, 5, 31), datetime.date(2020, 6, 18), datetime.date(2020, 7, 2), datetime.date(2020, 6, 16), datetime.date(2020, 6, 2), datetime.date(2020, 6, 15), datetime.date(2020, 6, 23), datetime.date(2020, 6, 28), datetime.date(2020, 6, 4)])\n",
      "[datetime.date(2020, 5, 7)]\n",
      "dict_keys([datetime.date(2020, 6, 9), datetime.date(2020, 6, 10), datetime.date(2020, 7, 3), datetime.date(2020, 6, 29), datetime.date(2020, 6, 17), datetime.date(2020, 6, 20), datetime.date(2020, 7, 5), datetime.date(2020, 6, 22), datetime.date(2020, 6, 26), datetime.date(2020, 6, 12), datetime.date(2020, 6, 24), datetime.date(2020, 6, 25), datetime.date(2020, 7, 1), datetime.date(2020, 7, 4), datetime.date(2020, 6, 14), datetime.date(2020, 6, 21), datetime.date(2020, 6, 18), datetime.date(2020, 7, 2), datetime.date(2020, 6, 16), datetime.date(2020, 6, 15), datetime.date(2020, 6, 23), datetime.date(2020, 6, 28)])\n",
      "[datetime.date(2020, 5, 7)]\n",
      "dict_keys([datetime.date(2020, 6, 9), datetime.date(2020, 6, 11), datetime.date(2020, 6, 10), datetime.date(2020, 6, 13), datetime.date(2020, 6, 27), datetime.date(2020, 6, 30), datetime.date(2020, 6, 19), datetime.date(2020, 6, 8), datetime.date(2020, 6, 17), datetime.date(2020, 6, 20), datetime.date(2020, 7, 5), datetime.date(2020, 6, 26), datetime.date(2020, 6, 12), datetime.date(2020, 6, 24), datetime.date(2020, 6, 7), datetime.date(2020, 6, 25), datetime.date(2020, 7, 1), datetime.date(2020, 7, 4), datetime.date(2020, 6, 14), datetime.date(2020, 6, 6), datetime.date(2020, 6, 5), datetime.date(2020, 6, 18), datetime.date(2020, 6, 28), datetime.date(2020, 7, 8)])\n",
      "[datetime.date(2020, 5, 7)]\n",
      "dict_keys([datetime.date(2020, 6, 9), datetime.date(2020, 6, 11), datetime.date(2020, 6, 10), datetime.date(2020, 6, 13), datetime.date(2020, 7, 3), datetime.date(2020, 5, 19), datetime.date(2020, 5, 28), datetime.date(2020, 5, 27), datetime.date(2020, 6, 30), datetime.date(2020, 5, 21), datetime.date(2020, 6, 3), datetime.date(2020, 6, 8), datetime.date(2020, 5, 22), datetime.date(2020, 6, 17), datetime.date(2020, 6, 20), datetime.date(2020, 6, 1), datetime.date(2020, 5, 23), datetime.date(2020, 6, 22), datetime.date(2020, 6, 26), datetime.date(2020, 6, 12), datetime.date(2020, 6, 7), datetime.date(2020, 6, 25), datetime.date(2020, 7, 1), datetime.date(2020, 6, 14), datetime.date(2020, 6, 6), datetime.date(2020, 6, 21), datetime.date(2020, 6, 5), datetime.date(2020, 5, 29), datetime.date(2020, 5, 26), datetime.date(2020, 5, 20), datetime.date(2020, 5, 31), datetime.date(2020, 6, 18), datetime.date(2020, 5, 30), datetime.date(2020, 6, 16), datetime.date(2020, 5, 24), datetime.date(2020, 5, 18), datetime.date(2020, 6, 2), datetime.date(2020, 6, 4), datetime.date(2020, 5, 25)])\n",
      "[datetime.date(2020, 5, 7)]\n",
      "dict_keys([datetime.date(2020, 7, 1), datetime.date(2020, 6, 8), datetime.date(2020, 6, 9), datetime.date(2020, 7, 2), datetime.date(2020, 6, 10), datetime.date(2020, 6, 14), datetime.date(2020, 6, 13), datetime.date(2020, 7, 3), datetime.date(2020, 6, 15), datetime.date(2020, 6, 23), datetime.date(2020, 6, 21), datetime.date(2020, 6, 29), datetime.date(2020, 6, 5), datetime.date(2020, 6, 27), datetime.date(2020, 6, 22), datetime.date(2020, 6, 4)])\n",
      "[datetime.date(2020, 5, 7)]\n",
      "dict_keys([datetime.date(2020, 6, 9), datetime.date(2020, 6, 10), datetime.date(2020, 7, 3), datetime.date(2020, 5, 28), datetime.date(2020, 5, 27), datetime.date(2020, 6, 19), datetime.date(2020, 5, 21), datetime.date(2020, 6, 3), datetime.date(2020, 6, 30), datetime.date(2020, 5, 22), datetime.date(2020, 6, 17), datetime.date(2020, 6, 20), datetime.date(2020, 6, 1), datetime.date(2020, 5, 23), datetime.date(2020, 6, 7), datetime.date(2020, 6, 25), datetime.date(2020, 7, 4), datetime.date(2020, 6, 14), datetime.date(2020, 6, 6), datetime.date(2020, 6, 21), datetime.date(2020, 6, 5), datetime.date(2020, 5, 29), datetime.date(2020, 5, 26), datetime.date(2020, 5, 20), datetime.date(2020, 6, 18), datetime.date(2020, 5, 30), datetime.date(2020, 7, 2), datetime.date(2020, 5, 24), datetime.date(2020, 6, 2), datetime.date(2020, 6, 15), datetime.date(2020, 6, 23), datetime.date(2020, 6, 4), datetime.date(2020, 5, 25)])\n",
      "[datetime.date(2020, 5, 7)]\n",
      "dict_keys([datetime.date(2020, 6, 9), datetime.date(2020, 6, 11), datetime.date(2020, 6, 10), datetime.date(2020, 7, 3), datetime.date(2020, 6, 29), datetime.date(2020, 5, 27), datetime.date(2020, 5, 28), datetime.date(2020, 6, 19), datetime.date(2020, 6, 3), datetime.date(2020, 6, 8), datetime.date(2020, 6, 30), datetime.date(2020, 6, 1), datetime.date(2020, 6, 12), datetime.date(2020, 6, 24), datetime.date(2020, 7, 1), datetime.date(2020, 7, 4), datetime.date(2020, 6, 6), datetime.date(2020, 6, 5), datetime.date(2020, 5, 29), datetime.date(2020, 5, 26), datetime.date(2020, 5, 30), datetime.date(2020, 7, 2), datetime.date(2020, 6, 16), datetime.date(2020, 6, 2), datetime.date(2020, 6, 15), datetime.date(2020, 6, 4), datetime.date(2020, 5, 25)])\n",
      "[datetime.date(2020, 5, 7)]\n",
      "dict_keys([datetime.date(2020, 7, 3), datetime.date(2020, 6, 29), datetime.date(2020, 7, 6), datetime.date(2020, 6, 27), datetime.date(2020, 6, 30), datetime.date(2020, 6, 19), datetime.date(2020, 6, 17), datetime.date(2020, 6, 20), datetime.date(2020, 6, 22), datetime.date(2020, 6, 26), datetime.date(2020, 6, 24), datetime.date(2020, 6, 25), datetime.date(2020, 7, 1), datetime.date(2020, 7, 4), datetime.date(2020, 6, 14), datetime.date(2020, 6, 21), datetime.date(2020, 6, 18), datetime.date(2020, 7, 2), datetime.date(2020, 6, 16), datetime.date(2020, 6, 15), datetime.date(2020, 6, 23), datetime.date(2020, 6, 28)])\n",
      "[datetime.date(2020, 5, 7)]\n",
      "dict_keys([datetime.date(2020, 6, 11), datetime.date(2020, 6, 10), datetime.date(2020, 6, 13), datetime.date(2020, 7, 3), datetime.date(2020, 6, 29), datetime.date(2020, 5, 19), datetime.date(2020, 6, 27), datetime.date(2020, 5, 9), datetime.date(2020, 6, 19), datetime.date(2020, 6, 3), datetime.date(2020, 5, 10), datetime.date(2020, 6, 1), datetime.date(2020, 5, 8), datetime.date(2020, 5, 6), datetime.date(2020, 6, 22), datetime.date(2020, 6, 26), datetime.date(2020, 6, 12), datetime.date(2020, 5, 12), datetime.date(2020, 7, 1), datetime.date(2020, 6, 14), datetime.date(2020, 5, 15), datetime.date(2020, 6, 21), datetime.date(2020, 6, 5), datetime.date(2020, 5, 29), datetime.date(2020, 5, 26), datetime.date(2020, 5, 31), datetime.date(2020, 5, 13), datetime.date(2020, 5, 11), datetime.date(2020, 7, 2), datetime.date(2020, 6, 16), datetime.date(2020, 6, 2), datetime.date(2020, 6, 15), datetime.date(2020, 6, 23), datetime.date(2020, 6, 28), datetime.date(2020, 5, 7), datetime.date(2020, 5, 5), datetime.date(2020, 6, 4), datetime.date(2020, 5, 25)])\n",
      "[datetime.date(2020, 5, 7)]\n",
      "dict_keys([datetime.date(2020, 6, 11), datetime.date(2020, 6, 10), datetime.date(2020, 6, 13), datetime.date(2020, 7, 3), datetime.date(2020, 6, 29), datetime.date(2020, 6, 27), datetime.date(2020, 6, 30), datetime.date(2020, 6, 19), datetime.date(2020, 6, 17), datetime.date(2020, 6, 20), datetime.date(2020, 6, 22), datetime.date(2020, 6, 12), datetime.date(2020, 6, 24), datetime.date(2020, 6, 25), datetime.date(2020, 7, 1), datetime.date(2020, 6, 14), datetime.date(2020, 6, 6), datetime.date(2020, 6, 21), datetime.date(2020, 6, 5), datetime.date(2020, 7, 2), datetime.date(2020, 6, 16), datetime.date(2020, 6, 15), datetime.date(2020, 6, 23), datetime.date(2020, 6, 28), datetime.date(2020, 6, 4)])\n",
      "[datetime.date(2020, 5, 7)]\n",
      "dict_keys([datetime.date(2020, 6, 9), datetime.date(2020, 6, 11), datetime.date(2020, 6, 10), datetime.date(2020, 6, 13), datetime.date(2020, 7, 3), datetime.date(2020, 6, 29), datetime.date(2020, 6, 27), datetime.date(2020, 6, 30), datetime.date(2020, 6, 19), datetime.date(2020, 6, 3), datetime.date(2020, 6, 8), datetime.date(2020, 6, 17), datetime.date(2020, 6, 20), datetime.date(2020, 6, 22), datetime.date(2020, 6, 26), datetime.date(2020, 6, 12), datetime.date(2020, 6, 24), datetime.date(2020, 6, 7), datetime.date(2020, 6, 25), datetime.date(2020, 7, 1), datetime.date(2020, 6, 14), datetime.date(2020, 6, 6), datetime.date(2020, 6, 21), datetime.date(2020, 6, 5), datetime.date(2020, 6, 18), datetime.date(2020, 7, 2), datetime.date(2020, 6, 16), datetime.date(2020, 6, 15), datetime.date(2020, 6, 23), datetime.date(2020, 6, 28), datetime.date(2020, 6, 4)])\n",
      "[datetime.date(2020, 5, 7)]\n",
      "dict_keys([datetime.date(2020, 6, 9), datetime.date(2020, 6, 11), datetime.date(2020, 6, 10), datetime.date(2020, 6, 13), datetime.date(2020, 7, 3), datetime.date(2020, 6, 29), datetime.date(2020, 6, 27), datetime.date(2020, 6, 30), datetime.date(2020, 6, 19), datetime.date(2020, 6, 3), datetime.date(2020, 6, 8), datetime.date(2020, 6, 17), datetime.date(2020, 6, 20), datetime.date(2020, 6, 22), datetime.date(2020, 6, 26), datetime.date(2020, 6, 12), datetime.date(2020, 6, 24), datetime.date(2020, 6, 7), datetime.date(2020, 6, 25), datetime.date(2020, 7, 1), datetime.date(2020, 6, 14), datetime.date(2020, 6, 6), datetime.date(2020, 6, 21), datetime.date(2020, 6, 5), datetime.date(2020, 6, 18), datetime.date(2020, 7, 2), datetime.date(2020, 6, 16), datetime.date(2020, 6, 15), datetime.date(2020, 6, 23), datetime.date(2020, 6, 28), datetime.date(2020, 6, 4)])\n",
      "[datetime.date(2020, 5, 7)]\n",
      "dict_keys([datetime.date(2020, 7, 1), datetime.date(2020, 6, 19), datetime.date(2020, 7, 2), datetime.date(2020, 6, 17), datetime.date(2020, 6, 14), datetime.date(2020, 6, 16), datetime.date(2020, 6, 15), datetime.date(2020, 6, 23), datetime.date(2020, 6, 21), datetime.date(2020, 6, 28), datetime.date(2020, 6, 29), datetime.date(2020, 6, 22), datetime.date(2020, 6, 26), datetime.date(2020, 6, 12), datetime.date(2020, 6, 24), datetime.date(2020, 6, 30)])\n",
      "[datetime.date(2020, 5, 7)]\n",
      "dict_keys([datetime.date(2020, 6, 9), datetime.date(2020, 6, 10), datetime.date(2020, 6, 13), datetime.date(2020, 7, 3), datetime.date(2020, 6, 29), datetime.date(2020, 6, 27), datetime.date(2020, 5, 27), datetime.date(2020, 5, 28), datetime.date(2020, 6, 19), datetime.date(2020, 6, 3), datetime.date(2020, 6, 8), datetime.date(2020, 6, 30), datetime.date(2020, 6, 17), datetime.date(2020, 6, 1), datetime.date(2020, 6, 22), datetime.date(2020, 6, 12), datetime.date(2020, 6, 7), datetime.date(2020, 6, 25), datetime.date(2020, 7, 1), datetime.date(2020, 6, 14), datetime.date(2020, 6, 6), datetime.date(2020, 6, 5), datetime.date(2020, 5, 29), datetime.date(2020, 5, 26), datetime.date(2020, 5, 31), datetime.date(2020, 7, 2), datetime.date(2020, 5, 24), datetime.date(2020, 6, 2), datetime.date(2020, 6, 28), datetime.date(2020, 6, 4), datetime.date(2020, 5, 25)])\n",
      "[datetime.date(2020, 5, 7)]\n",
      "dict_keys([datetime.date(2020, 6, 9), datetime.date(2020, 6, 11), datetime.date(2020, 6, 10), datetime.date(2020, 6, 13), datetime.date(2020, 7, 3), datetime.date(2020, 6, 29), datetime.date(2020, 6, 3), datetime.date(2020, 6, 8), datetime.date(2020, 6, 22), datetime.date(2020, 6, 26), datetime.date(2020, 6, 7), datetime.date(2020, 7, 1), datetime.date(2020, 7, 4), datetime.date(2020, 6, 6), datetime.date(2020, 6, 5), datetime.date(2020, 5, 26), datetime.date(2020, 7, 2), datetime.date(2020, 6, 16), datetime.date(2020, 6, 15), datetime.date(2020, 6, 23), datetime.date(2020, 6, 4)])\n",
      "[datetime.date(2020, 5, 7)]\n",
      "dict_keys([datetime.date(2020, 7, 3), datetime.date(2020, 5, 19), datetime.date(2020, 6, 27), datetime.date(2020, 5, 27), datetime.date(2020, 6, 19), datetime.date(2020, 5, 21), datetime.date(2020, 6, 3), datetime.date(2020, 6, 8), datetime.date(2020, 5, 22), datetime.date(2020, 6, 17), datetime.date(2020, 6, 1), datetime.date(2020, 5, 23), datetime.date(2020, 6, 22), datetime.date(2020, 6, 24), datetime.date(2020, 6, 25), datetime.date(2020, 7, 1), datetime.date(2020, 6, 14), datetime.date(2020, 5, 29), datetime.date(2020, 5, 26), datetime.date(2020, 5, 20), datetime.date(2020, 5, 31), datetime.date(2020, 5, 30), datetime.date(2020, 6, 16), datetime.date(2020, 5, 24), datetime.date(2020, 6, 2), datetime.date(2020, 6, 15), datetime.date(2020, 6, 23), datetime.date(2020, 6, 28), datetime.date(2020, 5, 25)])\n",
      "[datetime.date(2020, 5, 7)]\n",
      "dict_keys([datetime.date(2020, 6, 9), datetime.date(2020, 6, 11), datetime.date(2020, 6, 10), datetime.date(2020, 6, 13), datetime.date(2020, 6, 29), datetime.date(2020, 5, 27), datetime.date(2020, 5, 28), datetime.date(2020, 6, 19), datetime.date(2020, 5, 21), datetime.date(2020, 6, 3), datetime.date(2020, 6, 8), datetime.date(2020, 6, 30), datetime.date(2020, 6, 17), datetime.date(2020, 6, 20), datetime.date(2020, 6, 1), datetime.date(2020, 6, 22), datetime.date(2020, 6, 26), datetime.date(2020, 6, 12), datetime.date(2020, 6, 24), datetime.date(2020, 6, 7), datetime.date(2020, 6, 25), datetime.date(2020, 7, 1), datetime.date(2020, 6, 14), datetime.date(2020, 6, 6), datetime.date(2020, 6, 21), datetime.date(2020, 5, 26), datetime.date(2020, 6, 18), datetime.date(2020, 7, 2), datetime.date(2020, 6, 16), datetime.date(2020, 6, 2), datetime.date(2020, 6, 15), datetime.date(2020, 6, 23), datetime.date(2020, 6, 4), datetime.date(2020, 5, 25)])\n",
      "[datetime.date(2020, 5, 7)]\n",
      "dict_keys([datetime.date(2020, 6, 9), datetime.date(2020, 6, 10), datetime.date(2020, 6, 13), datetime.date(2020, 6, 29), datetime.date(2020, 5, 19), datetime.date(2020, 5, 28), datetime.date(2020, 6, 30), datetime.date(2020, 5, 21), datetime.date(2020, 6, 3), datetime.date(2020, 6, 8), datetime.date(2020, 6, 17), datetime.date(2020, 6, 1), datetime.date(2020, 5, 23), datetime.date(2020, 6, 12), datetime.date(2020, 6, 24), datetime.date(2020, 6, 7), datetime.date(2020, 6, 25), datetime.date(2020, 7, 1), datetime.date(2020, 6, 6), datetime.date(2020, 5, 29), datetime.date(2020, 5, 20), datetime.date(2020, 5, 30), datetime.date(2020, 7, 2), datetime.date(2020, 6, 16), datetime.date(2020, 5, 24), datetime.date(2020, 5, 18), datetime.date(2020, 6, 2), datetime.date(2020, 6, 23), datetime.date(2020, 6, 28), datetime.date(2020, 6, 4), datetime.date(2020, 5, 25)])\n",
      "[datetime.date(2020, 5, 7)]\n",
      "dict_keys([datetime.date(2020, 6, 9), datetime.date(2020, 6, 11), datetime.date(2020, 6, 10), datetime.date(2020, 6, 13), datetime.date(2020, 6, 29), datetime.date(2020, 6, 27), datetime.date(2020, 6, 30), datetime.date(2020, 6, 19), datetime.date(2020, 6, 3), datetime.date(2020, 6, 8), datetime.date(2020, 6, 17), datetime.date(2020, 6, 20), datetime.date(2020, 6, 1), datetime.date(2020, 6, 22), datetime.date(2020, 6, 26), datetime.date(2020, 6, 12), datetime.date(2020, 6, 24), datetime.date(2020, 6, 7), datetime.date(2020, 6, 25), datetime.date(2020, 7, 1), datetime.date(2020, 6, 14), datetime.date(2020, 6, 6), datetime.date(2020, 6, 21), datetime.date(2020, 6, 5), datetime.date(2020, 6, 18), datetime.date(2020, 7, 2), datetime.date(2020, 6, 16), datetime.date(2020, 6, 2), datetime.date(2020, 6, 15), datetime.date(2020, 6, 23), datetime.date(2020, 6, 28), datetime.date(2020, 6, 4), datetime.date(2020, 7, 8)])\n",
      "[datetime.date(2020, 5, 7)]\n",
      "dict_keys([datetime.date(2020, 6, 9), datetime.date(2020, 6, 11), datetime.date(2020, 6, 10), datetime.date(2020, 6, 13), datetime.date(2020, 6, 29), datetime.date(2020, 6, 27), datetime.date(2020, 6, 30), datetime.date(2020, 6, 19), datetime.date(2020, 6, 3), datetime.date(2020, 6, 8), datetime.date(2020, 6, 17), datetime.date(2020, 6, 20), datetime.date(2020, 6, 1), datetime.date(2020, 6, 22), datetime.date(2020, 6, 12), datetime.date(2020, 6, 7), datetime.date(2020, 7, 1), datetime.date(2020, 6, 6), datetime.date(2020, 6, 21), datetime.date(2020, 6, 5), datetime.date(2020, 6, 16), datetime.date(2020, 6, 2), datetime.date(2020, 6, 15), datetime.date(2020, 6, 23), datetime.date(2020, 6, 4)])\n",
      "[datetime.date(2020, 5, 7)]\n",
      "dict_keys([datetime.date(2020, 6, 13), datetime.date(2020, 6, 29), datetime.date(2020, 5, 19), datetime.date(2020, 6, 27), datetime.date(2020, 5, 9), datetime.date(2020, 5, 28), datetime.date(2020, 5, 27), datetime.date(2020, 6, 3), datetime.date(2020, 6, 17), datetime.date(2020, 5, 10), datetime.date(2020, 6, 1), datetime.date(2020, 5, 8), datetime.date(2020, 5, 23), datetime.date(2020, 6, 26), datetime.date(2020, 6, 24), datetime.date(2020, 5, 12), datetime.date(2020, 6, 14), datetime.date(2020, 5, 15), datetime.date(2020, 6, 5), datetime.date(2020, 5, 29), datetime.date(2020, 5, 26), datetime.date(2020, 5, 20), datetime.date(2020, 5, 31), datetime.date(2020, 6, 18), datetime.date(2020, 5, 13), datetime.date(2020, 5, 11), datetime.date(2020, 5, 30), datetime.date(2020, 5, 14), datetime.date(2020, 6, 16), datetime.date(2020, 5, 18), datetime.date(2020, 6, 2), datetime.date(2020, 6, 28), datetime.date(2020, 6, 4)])\n",
      "[datetime.date(2020, 5, 7)]\n",
      "dict_keys([datetime.date(2020, 6, 9), datetime.date(2020, 6, 10), datetime.date(2020, 6, 29), datetime.date(2020, 5, 19), datetime.date(2020, 6, 27), datetime.date(2020, 6, 30), datetime.date(2020, 5, 21), datetime.date(2020, 6, 3), datetime.date(2020, 6, 17), datetime.date(2020, 5, 10), datetime.date(2020, 6, 1), datetime.date(2020, 5, 8), datetime.date(2020, 5, 23), datetime.date(2020, 6, 26), datetime.date(2020, 6, 12), datetime.date(2020, 5, 12), datetime.date(2020, 6, 25), datetime.date(2020, 7, 1), datetime.date(2020, 5, 17), datetime.date(2020, 5, 15), datetime.date(2020, 6, 6), datetime.date(2020, 6, 5), datetime.date(2020, 5, 20), datetime.date(2020, 6, 18), datetime.date(2020, 5, 13), datetime.date(2020, 5, 11), datetime.date(2020, 5, 14), datetime.date(2020, 6, 16), datetime.date(2020, 5, 24), datetime.date(2020, 5, 18), datetime.date(2020, 6, 2), datetime.date(2020, 6, 28), datetime.date(2020, 5, 7), datetime.date(2020, 6, 4), datetime.date(2020, 5, 25)])\n",
      "[datetime.date(2020, 5, 7)]\n",
      "dict_keys([datetime.date(2020, 6, 9), datetime.date(2020, 6, 11), datetime.date(2020, 6, 10), datetime.date(2020, 6, 13), datetime.date(2020, 6, 29), datetime.date(2020, 6, 27), datetime.date(2020, 5, 28), datetime.date(2020, 5, 27), datetime.date(2020, 6, 30), datetime.date(2020, 6, 3), datetime.date(2020, 6, 8), datetime.date(2020, 5, 22), datetime.date(2020, 6, 17), datetime.date(2020, 6, 20), datetime.date(2020, 6, 1), datetime.date(2020, 5, 23), datetime.date(2020, 6, 22), datetime.date(2020, 6, 12), datetime.date(2020, 6, 24), datetime.date(2020, 6, 7), datetime.date(2020, 6, 25), datetime.date(2020, 7, 1), datetime.date(2020, 6, 14), datetime.date(2020, 6, 6), datetime.date(2020, 6, 21), datetime.date(2020, 6, 5), datetime.date(2020, 5, 29), datetime.date(2020, 5, 26), datetime.date(2020, 5, 31), datetime.date(2020, 6, 18), datetime.date(2020, 7, 2), datetime.date(2020, 6, 16), datetime.date(2020, 5, 24), datetime.date(2020, 6, 15), datetime.date(2020, 6, 23), datetime.date(2020, 6, 28), datetime.date(2020, 6, 4), datetime.date(2020, 5, 25)])\n",
      "[datetime.date(2020, 5, 7)]\n",
      "dict_keys([datetime.date(2020, 6, 9), datetime.date(2020, 6, 11), datetime.date(2020, 6, 10), datetime.date(2020, 6, 13), datetime.date(2020, 6, 29), datetime.date(2020, 6, 27), datetime.date(2020, 6, 30), datetime.date(2020, 6, 3), datetime.date(2020, 6, 8), datetime.date(2020, 6, 17), datetime.date(2020, 6, 1), datetime.date(2020, 6, 22), datetime.date(2020, 6, 12), datetime.date(2020, 6, 7), datetime.date(2020, 7, 1), datetime.date(2020, 6, 14), datetime.date(2020, 6, 6), datetime.date(2020, 6, 21), datetime.date(2020, 6, 5), datetime.date(2020, 6, 18), datetime.date(2020, 6, 16), datetime.date(2020, 6, 2), datetime.date(2020, 6, 15), datetime.date(2020, 6, 23), datetime.date(2020, 6, 28), datetime.date(2020, 6, 4)])\n",
      "[datetime.date(2020, 5, 7)]\n",
      "dict_keys([datetime.date(2020, 6, 11), datetime.date(2020, 6, 10), datetime.date(2020, 6, 13), datetime.date(2020, 6, 29), datetime.date(2020, 6, 27), datetime.date(2020, 6, 30), datetime.date(2020, 6, 19), datetime.date(2020, 6, 8), datetime.date(2020, 6, 17), datetime.date(2020, 6, 26), datetime.date(2020, 6, 12), datetime.date(2020, 6, 24), datetime.date(2020, 6, 7), datetime.date(2020, 6, 25), datetime.date(2020, 6, 14), datetime.date(2020, 6, 6), datetime.date(2020, 6, 21), datetime.date(2020, 6, 5), datetime.date(2020, 6, 18), datetime.date(2020, 6, 16), datetime.date(2020, 6, 15), datetime.date(2020, 6, 23), datetime.date(2020, 6, 28)])\n",
      "[datetime.date(2020, 5, 7)]\n",
      "dict_keys([datetime.date(2020, 6, 9), datetime.date(2020, 6, 11), datetime.date(2020, 7, 3), datetime.date(2020, 6, 29), datetime.date(2020, 5, 19), datetime.date(2020, 6, 27), datetime.date(2020, 5, 28), datetime.date(2020, 5, 27), datetime.date(2020, 6, 19), datetime.date(2020, 5, 21), datetime.date(2020, 6, 3), datetime.date(2020, 6, 8), datetime.date(2020, 5, 22), datetime.date(2020, 6, 17), datetime.date(2020, 6, 20), datetime.date(2020, 6, 1), datetime.date(2020, 5, 23), datetime.date(2020, 6, 22), datetime.date(2020, 6, 26), datetime.date(2020, 6, 12), datetime.date(2020, 6, 24), datetime.date(2020, 6, 7), datetime.date(2020, 6, 25), datetime.date(2020, 5, 17), datetime.date(2020, 5, 15), datetime.date(2020, 6, 6), datetime.date(2020, 6, 5), datetime.date(2020, 5, 29), datetime.date(2020, 5, 26), datetime.date(2020, 5, 20), datetime.date(2020, 5, 31), datetime.date(2020, 6, 18), datetime.date(2020, 6, 16), datetime.date(2020, 5, 18), datetime.date(2020, 6, 2), datetime.date(2020, 6, 15), datetime.date(2020, 6, 23), datetime.date(2020, 5, 16), datetime.date(2020, 6, 4), datetime.date(2020, 5, 25)])\n",
      "[datetime.date(2020, 5, 7)]\n",
      "dict_keys([datetime.date(2020, 6, 9), datetime.date(2020, 6, 11), datetime.date(2020, 6, 10), datetime.date(2020, 6, 13), datetime.date(2020, 6, 29), datetime.date(2020, 6, 27), datetime.date(2020, 5, 27), datetime.date(2020, 5, 28), datetime.date(2020, 6, 19), datetime.date(2020, 6, 3), datetime.date(2020, 6, 8), datetime.date(2020, 6, 17), datetime.date(2020, 6, 20), datetime.date(2020, 6, 1), datetime.date(2020, 6, 22), datetime.date(2020, 6, 26), datetime.date(2020, 6, 12), datetime.date(2020, 6, 24), datetime.date(2020, 6, 7), datetime.date(2020, 6, 25), datetime.date(2020, 6, 14), datetime.date(2020, 6, 21), datetime.date(2020, 6, 5), datetime.date(2020, 5, 29), datetime.date(2020, 5, 31), datetime.date(2020, 6, 18), datetime.date(2020, 5, 30), datetime.date(2020, 6, 16), datetime.date(2020, 6, 2), datetime.date(2020, 6, 15), datetime.date(2020, 6, 23), datetime.date(2020, 6, 28), datetime.date(2020, 6, 4)])\n",
      "[datetime.date(2020, 5, 7)]\n",
      "dict_keys([datetime.date(2020, 4, 1), datetime.date(2020, 6, 9), datetime.date(2020, 4, 4), datetime.date(2020, 6, 10), datetime.date(2020, 6, 13), datetime.date(2020, 4, 6), datetime.date(2020, 4, 30), datetime.date(2020, 6, 29), datetime.date(2020, 6, 27), datetime.date(2020, 3, 31), datetime.date(2020, 5, 9), datetime.date(2020, 4, 18), datetime.date(2020, 4, 3), datetime.date(2020, 4, 14), datetime.date(2020, 4, 19), datetime.date(2020, 6, 3), datetime.date(2020, 6, 19), datetime.date(2020, 5, 22), datetime.date(2020, 4, 20), datetime.date(2020, 6, 17), datetime.date(2020, 6, 20), datetime.date(2020, 5, 8), datetime.date(2020, 5, 6), datetime.date(2020, 5, 23), datetime.date(2020, 6, 22), datetime.date(2020, 6, 26), datetime.date(2020, 6, 24), datetime.date(2020, 6, 7), datetime.date(2020, 6, 25), datetime.date(2020, 3, 30), datetime.date(2020, 5, 1), datetime.date(2020, 5, 17), datetime.date(2020, 4, 26), datetime.date(2020, 6, 14), datetime.date(2020, 4, 28), datetime.date(2020, 6, 6), datetime.date(2020, 4, 25), datetime.date(2020, 6, 21), datetime.date(2020, 5, 4), datetime.date(2020, 4, 27), datetime.date(2020, 4, 29), datetime.date(2020, 5, 29), datetime.date(2020, 5, 20), datetime.date(2020, 5, 26), datetime.date(2020, 5, 31), datetime.date(2020, 6, 18), datetime.date(2020, 4, 2), datetime.date(2020, 5, 11), datetime.date(2020, 5, 13), datetime.date(2020, 4, 5), datetime.date(2020, 5, 14), datetime.date(2020, 4, 21), datetime.date(2020, 6, 16), datetime.date(2020, 5, 3), datetime.date(2020, 5, 24), datetime.date(2020, 6, 2), datetime.date(2020, 6, 15), datetime.date(2020, 6, 23), datetime.date(2020, 6, 28), datetime.date(2020, 4, 12), datetime.date(2020, 4, 10), datetime.date(2020, 5, 5), datetime.date(2020, 4, 11), datetime.date(2020, 5, 7), datetime.date(2020, 5, 16), datetime.date(2020, 5, 2), datetime.date(2020, 5, 25), datetime.date(2020, 4, 23)])\n",
      "[datetime.date(2020, 5, 7)]\n",
      "dict_keys([datetime.date(2020, 6, 9), datetime.date(2020, 6, 10), datetime.date(2020, 6, 29), datetime.date(2020, 6, 27), datetime.date(2020, 5, 27), datetime.date(2020, 5, 28), datetime.date(2020, 6, 19), datetime.date(2020, 6, 3), datetime.date(2020, 6, 8), datetime.date(2020, 6, 30), datetime.date(2020, 6, 17), datetime.date(2020, 6, 1), datetime.date(2020, 6, 26), datetime.date(2020, 6, 12), datetime.date(2020, 6, 24), datetime.date(2020, 6, 7), datetime.date(2020, 6, 25), datetime.date(2020, 6, 14), datetime.date(2020, 6, 6), datetime.date(2020, 6, 21), datetime.date(2020, 6, 5), datetime.date(2020, 5, 29), datetime.date(2020, 5, 31), datetime.date(2020, 6, 16), datetime.date(2020, 6, 2), datetime.date(2020, 6, 15), datetime.date(2020, 6, 23), datetime.date(2020, 6, 28), datetime.date(2020, 6, 4)])\n",
      "[datetime.date(2020, 5, 7)]\n",
      "dict_keys([datetime.date(2020, 6, 10), datetime.date(2020, 5, 27), datetime.date(2020, 5, 21), datetime.date(2020, 6, 3), datetime.date(2020, 6, 8), datetime.date(2020, 5, 22), datetime.date(2020, 6, 1), datetime.date(2020, 5, 23), datetime.date(2020, 6, 26), datetime.date(2020, 6, 24), datetime.date(2020, 6, 7), datetime.date(2020, 6, 14), datetime.date(2020, 5, 29), datetime.date(2020, 5, 26), datetime.date(2020, 5, 20), datetime.date(2020, 5, 31), datetime.date(2020, 5, 30), datetime.date(2020, 5, 24), datetime.date(2020, 6, 2), datetime.date(2020, 6, 28), datetime.date(2020, 6, 23), datetime.date(2020, 5, 25)])\n",
      "[datetime.date(2020, 5, 7)]\n",
      "dict_keys([datetime.date(2020, 7, 7), datetime.date(2020, 6, 11), datetime.date(2020, 6, 10), datetime.date(2020, 6, 13), datetime.date(2020, 6, 29), datetime.date(2020, 5, 19), datetime.date(2020, 6, 27), datetime.date(2020, 5, 28), datetime.date(2020, 5, 27), datetime.date(2020, 6, 19), datetime.date(2020, 5, 21), datetime.date(2020, 6, 3), datetime.date(2020, 5, 22), datetime.date(2020, 6, 17), datetime.date(2020, 6, 1), datetime.date(2020, 5, 23), datetime.date(2020, 6, 22), datetime.date(2020, 6, 26), datetime.date(2020, 6, 12), datetime.date(2020, 6, 7), datetime.date(2020, 6, 25), datetime.date(2020, 6, 14), datetime.date(2020, 5, 15), datetime.date(2020, 6, 21), datetime.date(2020, 6, 5), datetime.date(2020, 5, 29), datetime.date(2020, 5, 26), datetime.date(2020, 5, 20), datetime.date(2020, 6, 18), datetime.date(2020, 5, 14), datetime.date(2020, 5, 24), datetime.date(2020, 5, 18), datetime.date(2020, 6, 2), datetime.date(2020, 6, 23), datetime.date(2020, 6, 28), datetime.date(2020, 5, 16), datetime.date(2020, 6, 4), datetime.date(2020, 5, 25)])\n",
      "[datetime.date(2020, 5, 7)]\n",
      "dict_keys([datetime.date(2020, 6, 9), datetime.date(2020, 6, 11), datetime.date(2020, 6, 10), datetime.date(2020, 6, 27), datetime.date(2020, 6, 19), datetime.date(2020, 6, 3), datetime.date(2020, 6, 8), datetime.date(2020, 6, 17), datetime.date(2020, 6, 20), datetime.date(2020, 6, 1), datetime.date(2020, 6, 22), datetime.date(2020, 6, 26), datetime.date(2020, 6, 24), datetime.date(2020, 6, 25), datetime.date(2020, 6, 14), datetime.date(2020, 6, 6), datetime.date(2020, 6, 21), datetime.date(2020, 6, 5), datetime.date(2020, 5, 29), datetime.date(2020, 5, 31), datetime.date(2020, 6, 18), datetime.date(2020, 5, 30), datetime.date(2020, 6, 15), datetime.date(2020, 6, 23), datetime.date(2020, 6, 28), datetime.date(2020, 6, 4)])\n",
      "[datetime.date(2020, 5, 7)]\n",
      "dict_keys([datetime.date(2020, 5, 19), datetime.date(2020, 6, 27), datetime.date(2020, 5, 28), datetime.date(2020, 6, 3), datetime.date(2020, 6, 8), datetime.date(2020, 5, 22), datetime.date(2020, 6, 26), datetime.date(2020, 6, 12), datetime.date(2020, 6, 24), datetime.date(2020, 6, 7), datetime.date(2020, 6, 25), datetime.date(2020, 6, 14), datetime.date(2020, 6, 6), datetime.date(2020, 5, 29), datetime.date(2020, 5, 26), datetime.date(2020, 5, 20), datetime.date(2020, 5, 31), datetime.date(2020, 5, 30), datetime.date(2020, 5, 24), datetime.date(2020, 6, 2), datetime.date(2020, 6, 4)])\n",
      "[datetime.date(2020, 5, 7)]\n",
      "dict_keys([datetime.date(2020, 6, 9), datetime.date(2020, 6, 10), datetime.date(2020, 5, 19), datetime.date(2020, 6, 27), datetime.date(2020, 5, 27), datetime.date(2020, 5, 22), datetime.date(2020, 6, 17), datetime.date(2020, 5, 23), datetime.date(2020, 6, 26), datetime.date(2020, 6, 7), datetime.date(2020, 6, 6), datetime.date(2020, 6, 5), datetime.date(2020, 5, 29), datetime.date(2020, 5, 26), datetime.date(2020, 5, 20), datetime.date(2020, 5, 31), datetime.date(2020, 6, 18), datetime.date(2020, 5, 30), datetime.date(2020, 6, 16), datetime.date(2020, 5, 24), datetime.date(2020, 5, 18), datetime.date(2020, 6, 15), datetime.date(2020, 5, 25)])\n",
      "[datetime.date(2020, 5, 7)]\n",
      "dict_keys([datetime.date(2020, 6, 9), datetime.date(2020, 6, 11), datetime.date(2020, 6, 10), datetime.date(2020, 6, 13), datetime.date(2020, 6, 27), datetime.date(2020, 6, 3), datetime.date(2020, 6, 8), datetime.date(2020, 6, 26), datetime.date(2020, 6, 12), datetime.date(2020, 6, 24), datetime.date(2020, 6, 7), datetime.date(2020, 6, 25), datetime.date(2020, 6, 6), datetime.date(2020, 6, 21), datetime.date(2020, 6, 5), datetime.date(2020, 5, 31), datetime.date(2020, 6, 18), datetime.date(2020, 5, 30), datetime.date(2020, 6, 16), datetime.date(2020, 6, 15), datetime.date(2020, 6, 23), datetime.date(2020, 6, 4)])\n",
      "[datetime.date(2020, 5, 7)]\n",
      "dict_keys([datetime.date(2020, 6, 9), datetime.date(2020, 6, 13), datetime.date(2020, 5, 19), datetime.date(2020, 6, 27), datetime.date(2020, 5, 28), datetime.date(2020, 5, 27), datetime.date(2020, 5, 21), datetime.date(2020, 6, 3), datetime.date(2020, 5, 22), datetime.date(2020, 5, 23), datetime.date(2020, 6, 22), datetime.date(2020, 6, 26), datetime.date(2020, 6, 25), datetime.date(2020, 6, 21), datetime.date(2020, 6, 5), datetime.date(2020, 5, 29), datetime.date(2020, 5, 26), datetime.date(2020, 5, 20), datetime.date(2020, 5, 31), datetime.date(2020, 6, 18), datetime.date(2020, 5, 24), datetime.date(2020, 5, 18), datetime.date(2020, 6, 2), datetime.date(2020, 6, 15), datetime.date(2020, 5, 25)])\n"
     ]
    }
   ],
   "source": [
    "project_list = []\n",
    "for p in projects:\n",
    "    current_date = p.end_date.date() - pd.to_timedelta(59, unit='d')\n",
    "    event_dates = set([e.date for e in sorted(p.actualities + p.donations, key=lambda x: x.date)])\n",
    "    event_by_date = {}\n",
    "    for d in event_dates:\n",
    "        event_by_date[d] = {}\n",
    "        event_by_date[d]['pers'] = [a for a in p.actualities if a.kind == 'pers' and a.date == d]\n",
    "        event_by_date[d]['inf'] = [a for a in p.actualities if a.kind == 'inf' and a.date == d]\n",
    "        event_by_date[d]['don'] = [don for don in p.donations if don.date == d]\n",
    "    \n",
    "\n",
    "    p_amount = 0\n",
    "    nb_don = 0\n",
    "    \n",
    "    for i in range(1, 61):\n",
    "        d = {}\n",
    "        \n",
    "        d['link'] = p.link\n",
    "        d['day'] = i\n",
    "        try:\n",
    "            day_data = event_by_date[current_date]\n",
    "        except KeyError:\n",
    "            day_data = {'pers': [], 'inf': [], 'don': []} \n",
    "\n",
    "        \n",
    "        nb_don += len(day_data['don'])\n",
    "        d['attrac_rel_j'] = nb_don/i\n",
    "        d['above_attrac_rel_j'] = len(day_data['don']) > d['attrac_rel_j']\n",
    "        d['n_don_j'] = len(day_data['don'])\n",
    "        d['don_j'] = len(day_data['don']) >= 1\n",
    "\n",
    "        rel_don = [don.amount for don in day_data['don'] if type(don.amount) is not str]\n",
    "        somme_rel_don = sum(rel_don)\n",
    "        p_amount += somme_rel_don\n",
    "        \n",
    "        d['avg_don_j'] = somme_rel_don/max(len(rel_don), 1)\n",
    "        d['jump_1_j_nb'] = len([don for don in rel_don if don > 1])\n",
    "        d['jump_1_j'] = d['jump_1_j_nb'] != 0\n",
    "        \n",
    "        d['jump_avg_j_nb'] = len([don for don in rel_don if don > p.mean_don])\n",
    "        d['jump_avg_j'] = d['jump_avg_j_nb'] != 0\n",
    "        \n",
    "        \n",
    "        d['n_inf_j'] = len(day_data['inf'])\n",
    "        d['inf_j'] = len(day_data['inf']) >= 1\n",
    "\n",
    "        d['n_pers_j'] = len(day_data['pers'])\n",
    "        d['pers_j'] = len(day_data['pers']) >= 1\n",
    "        \n",
    "        if type(p.aimed_amount) is not str:\n",
    "            d['compl_rate_j'] = int(p_amount / p.aimed_amount * 100)\n",
    "            d['over_success_j'] = p_amount > p.aimed_amount\n",
    "        d['n_comment_j'] = None \n",
    "        d['comment_j'] = None \n",
    "        d['n_don_level_j'] = None\n",
    "        d['don_level_j'] = None\n",
    "        \n",
    "        \n",
    "        project_list.append(d)\n",
    "        current_date = current_date + pd.to_timedelta(1, unit='d')\n",
    "\n",
    "df = pd.DataFrame(project_list)"
   ]
  },
  {
   "cell_type": "code",
   "execution_count": 230,
   "metadata": {},
   "outputs": [],
   "source": [
    "df.to_csv('data/output/micro.csv', sep=';')"
   ]
  }
 ],
 "metadata": {
  "kernelspec": {
   "display_name": "Python 3",
   "language": "python",
   "name": "python3"
  },
  "language_info": {
   "codemirror_mode": {
    "name": "ipython",
    "version": 3
   },
   "file_extension": ".py",
   "mimetype": "text/x-python",
   "name": "python",
   "nbconvert_exporter": "python",
   "pygments_lexer": "ipython3",
   "version": "3.8.3"
  }
 },
 "nbformat": 4,
 "nbformat_minor": 2
}

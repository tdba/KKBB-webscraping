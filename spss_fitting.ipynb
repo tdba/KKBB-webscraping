{
 "cells": [
  {
   "cell_type": "markdown",
   "metadata": {},
   "source": [
    "# Imports "
   ]
  },
  {
   "cell_type": "code",
   "execution_count": 1,
   "metadata": {},
   "outputs": [],
   "source": [
    "from math import ceil\n",
    "from time import sleep\n",
    "from random import randint\n",
    "from bs4 import BeautifulSoup\n",
    "\n",
    "\n",
    "from selenium import webdriver\n",
    "from selenium.common.exceptions import NoSuchElementException\n",
    "from selenium.webdriver.support import expected_conditions as EC\n",
    "from selenium.webdriver.support.ui import WebDriverWait\n",
    "from selenium.webdriver.common.by import By\n",
    "from webdriver_manager.chrome import ChromeDriverManager\n",
    "\n",
    "import pandas as pd\n",
    "import numpy as np\n",
    "import requests\n",
    "import json\n",
    "import pickle"
   ]
  },
  {
   "cell_type": "markdown",
   "metadata": {},
   "source": [
    "# SPSS Fitting"
   ]
  },
  {
   "cell_type": "markdown",
   "metadata": {},
   "source": [
    "## Macro"
   ]
  },
  {
   "cell_type": "code",
   "execution_count": 2,
   "metadata": {},
   "outputs": [],
   "source": [
    "with open('data/filled_selected_campaigns.pkl', 'rb') as f:\n",
    "    projects = pickle.load(f)"
   ]
  },
  {
   "cell_type": "code",
   "execution_count": 3,
   "metadata": {},
   "outputs": [],
   "source": [
    "projects = [p for p in projects if str(min([e.date for e in p.donations])) != '1970-01-01']"
   ]
  },
  {
   "cell_type": "code",
   "execution_count": 4,
   "metadata": {},
   "outputs": [],
   "source": [
    "for p in projects:\n",
    "    p.start_date = min([e.date for e in p.actualities + p.donations] + p.comments + [p.end_date - pd.to_timedelta(60, unit='D')])\n",
    "    p.duration = (p.end_date - p.start_date).days\n",
    "    \n",
    "    # DONATIONS\n",
    "    p.num_don = len(p.donations)\n",
    "    amounts = [don.amount for don in p.donations if don.amount != 0]\n",
    "    p.mean_don = sum(amounts)/len(amounts)\n",
    "    p.jump_1 = 0\n",
    "    p.jump_mean = 0\n",
    "    p.max_rewards = 0\n",
    "    \n",
    "    for d in p.donations:\n",
    "        if d.amount > 1:\n",
    "            p.jump_1 += 1\n",
    "        if d.amount > p.mean_don:\n",
    "            p.jump_mean += 1\n",
    "        if d.amount >= p.hrp:\n",
    "            p.max_rewards += 1"
   ]
  },
  {
   "cell_type": "code",
   "execution_count": 5,
   "metadata": {},
   "outputs": [],
   "source": [
    "campaigns = [[c.link, c.title, c.description, c.project_holder, c.current_amount, c.aimed_amount, c.nb_contrib, c.completion_rate, c.categories, len(c.comments), c.num_pers, c.num_info, c.end_date, c.num_don, c.mean_don, c.jump_1, c.jump_mean, c.max_rewards, c.other_projects, c.start_date, c.duration] for c in projects]"
   ]
  },
  {
   "cell_type": "code",
   "execution_count": 6,
   "metadata": {},
   "outputs": [],
   "source": [
    "cols = ['link', 'title', 'desc', 'project_holder', 'Amount', 'aimed_amount', 'nb_contrib', 'ComplRate', 'categories',\n",
    "        'NComment', 'NPers', 'NInfo', 'end_date', 'NDon', 'ADon', 'NJump1', 'NJumpA', 'NDonLevel', 'OtherProject', \n",
    "        'start_date', 'Duration']\n",
    "df = pd.DataFrame(campaigns, columns=cols)"
   ]
  },
  {
   "cell_type": "code",
   "execution_count": 7,
   "metadata": {},
   "outputs": [],
   "source": [
    "df.loc[:, 'nb_actus'] = df.NPers + df.NInfo\n",
    "df.loc[:, 'OverSuccess'] = df.ComplRate > 105"
   ]
  },
  {
   "cell_type": "code",
   "execution_count": 8,
   "metadata": {
    "scrolled": true
   },
   "outputs": [],
   "source": [
    "cats = []\n",
    "for c in set(df.categories):\n",
    "    cats.extend(c.split(', '))\n",
    "cats = list(set(cats))\n",
    "\n",
    "cultura = [\n",
    "    \"Photo d'art\",\n",
    "    'Enregistrement',\n",
    "    'Art numérique',\n",
    "    'BD',\n",
    "    'Long-métrage',\n",
    "    'Documentaire',\n",
    "    'Films & vidéo',\n",
    "    'Danse',\n",
    "    'Musique',\n",
    "    'Clip',\n",
    "    'Art & photo',\n",
    "    'Peinture',\n",
    "    'Websérie',\n",
    "    'Roman',\n",
    "    'Livres',\n",
    "    'Court-métrage',\n",
    "    'Illustration',\n",
    "    'Théâtre et danse',\n",
    "    'Photo-reportage',\n",
    "    'Reportage',\n",
    "    'Théâtre',\n",
    "    'Street art',\n",
    "    'Webdocumentaire',\n",
    "    \"Livre d'art\"\n",
    "]\n",
    "\n",
    "df.loc[:, 'BCulture'] = df.categories.str.contains('|'.join(cultura))"
   ]
  },
  {
   "cell_type": "code",
   "execution_count": 9,
   "metadata": {},
   "outputs": [],
   "source": [
    "df = df.astype({'BCulture': 'int', 'OtherProject': 'int', 'OverSuccess': 'int'})"
   ]
  },
  {
   "cell_type": "code",
   "execution_count": 10,
   "metadata": {},
   "outputs": [],
   "source": [
    "macro_df = df[['link', 'Amount', 'ComplRate', 'OverSuccess', 'Duration', 'NDon', 'ADon', 'NInfo', \n",
    "               'NPers', 'NComment', 'NJumpA', 'NJump1', 'NDonLevel', 'BCulture', 'OtherProject']]"
   ]
  },
  {
   "cell_type": "code",
   "execution_count": 12,
   "metadata": {},
   "outputs": [],
   "source": [
    "fb_df = pd.read_excel('C:/Users/tangu/Downloads/Macro_Final_E_PourMerge.xls')"
   ]
  },
  {
   "cell_type": "code",
   "execution_count": 13,
   "metadata": {},
   "outputs": [],
   "source": [
    "macro_df = macro_df.merge(fb_df, on='link', how='left').fillna(5)"
   ]
  },
  {
   "cell_type": "code",
   "execution_count": 14,
   "metadata": {},
   "outputs": [],
   "source": [
    "macro_df = macro_df.astype({'BCulture': 'int', 'OtherProject': 'int', 'OverSuccess': 'int', 'Facebook': 'int', 'NFacebook': 'int'})"
   ]
  },
  {
   "cell_type": "code",
   "execution_count": 15,
   "metadata": {},
   "outputs": [],
   "source": [
    "macro_df.to_csv('data/output/macro.csv', sep=';')"
   ]
  },
  {
   "cell_type": "markdown",
   "metadata": {},
   "source": [
    "## Micro"
   ]
  },
  {
   "cell_type": "code",
   "execution_count": 45,
   "metadata": {},
   "outputs": [],
   "source": [
    "project_list = []\n",
    "for p in projects:\n",
    "    current_date = p.end_date - pd.to_timedelta(p.duration, unit='d')\n",
    "    event_dates = set([e.date for e in p.actualities + p.donations] + p.comments)\n",
    "    event_by_date = {}\n",
    "    for d in event_dates:\n",
    "        event_by_date[d] = {}\n",
    "        event_by_date[d]['pers'] = [a for a in p.actualities if a.kind == 'pers' and a.date == d]\n",
    "        event_by_date[d]['inf'] = [a for a in p.actualities if a.kind == 'inf' and a.date == d]\n",
    "        event_by_date[d]['don'] = [don for don in p.donations if don.date == d]\n",
    "        event_by_date[d]['com'] = [com for com in p.comments if com == d]\n",
    "    \n",
    "    for don in p.donations:\n",
    "        if don.amount == 0:\n",
    "            don.amount = p.mean_don\n",
    "    \n",
    "    p_amount = 0\n",
    "    nb_don = 0\n",
    "    \n",
    "    mdon = False\n",
    "    minfo = False\n",
    "    mpers = False\n",
    "    \n",
    "    mcom = False\n",
    "    mos = False\n",
    "    mcr = 0\n",
    "    mar = 0\n",
    "    \n",
    "    mnjump1 = 0\n",
    "    mnjumpa = 0\n",
    "    \n",
    "    \n",
    "    for i in range(1, p.duration+1):\n",
    "        d = {}\n",
    "        \n",
    "        d['link'] = p.link\n",
    "        d['day'] = i\n",
    "        try:\n",
    "            day_data = event_by_date[current_date]\n",
    "        except KeyError:\n",
    "            day_data = {'pers': [], 'inf': [], 'don': [], 'com': []} \n",
    "                \n",
    "        nb_don += len(day_data['don'])\n",
    "        \n",
    "        d['DonJ'] = len(day_data['don']) >= 1\n",
    "        d['DonJ-1'] = mdon\n",
    "        mdon = d['DonJ']\n",
    "\n",
    "        d['InfoJ'] = len(day_data['inf']) >= 1\n",
    "        d['InfoJ-1'] = minfo\n",
    "        minfo = d['InfoJ']\n",
    "\n",
    "        d['PersJ'] = len(day_data['pers']) >= 1\n",
    "        d['PersJ-1'] = mpers\n",
    "        mpers = d['PersJ']\n",
    "        \n",
    "        d['AttractRelJ-1'] = mar\n",
    "        mar = nb_don/i\n",
    "        \n",
    "        d['CommentJ-1'] = mcom\n",
    "        mcom = len(day_data['com']) >= 1\n",
    "\n",
    "        rel_don = [don.amount for don in day_data['don']]\n",
    "        somme_rel_don = sum(rel_don)\n",
    "        p_amount += somme_rel_don\n",
    "        \n",
    "        d['NJump1J-1'] = mnjump1\n",
    "        mnjump1 = len([don for don in rel_don if don > 1])\n",
    "        d['Jump1J'] = mnjump1 != 0\n",
    "        \n",
    "        d['NJumpAJ-1'] = mnjumpa\n",
    "        mnjumpa = len([don for don in rel_don if don > p.mean_don])\n",
    "        d['JumpAJ'] = mnjumpa != 0\n",
    "        \n",
    "        d['ComplRateJ-1'] = mcr\n",
    "        mcr = int(p_amount*1.15 / p.aimed_amount * 100)\n",
    "        \n",
    "        d['OverSuccessJ-1'] = mos \n",
    "        mos = (p_amount * 1.15) > p.aimed_amount\n",
    "        \n",
    "        \n",
    "        project_list.append(d)\n",
    "        current_date = current_date + pd.to_timedelta(1, unit='d')\n",
    "\n",
    "df = pd.DataFrame(project_list)"
   ]
  },
  {
   "cell_type": "code",
   "execution_count": 46,
   "metadata": {},
   "outputs": [],
   "source": [
    "df = df.astype({'DonJ': 'int',\n",
    "                'DonJ-1': 'int',\n",
    "                'InfoJ': 'int',\n",
    "                'InfoJ-1': 'int',\n",
    "                'PersJ': 'int',\n",
    "                'PersJ-1': 'int',\n",
    "                'CommentJ-1': 'int',\n",
    "                'Jump1J': 'int',\n",
    "                'JumpAJ': 'int',\n",
    "                'OverSuccessJ-1': 'int'\n",
    "               })"
   ]
  },
  {
   "cell_type": "code",
   "execution_count": 50,
   "metadata": {},
   "outputs": [],
   "source": [
    "df.to_csv('data/output/micro.csv', sep=';')"
   ]
  }
 ],
 "metadata": {
  "kernelspec": {
   "display_name": "Python 3",
   "language": "python",
   "name": "python3"
  },
  "language_info": {
   "codemirror_mode": {
    "name": "ipython",
    "version": 3
   },
   "file_extension": ".py",
   "mimetype": "text/x-python",
   "name": "python",
   "nbconvert_exporter": "python",
   "pygments_lexer": "ipython3",
   "version": "3.7.4"
  }
 },
 "nbformat": 4,
 "nbformat_minor": 2
}

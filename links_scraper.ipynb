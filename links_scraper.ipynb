{
 "cells": [
  {
   "cell_type": "markdown",
   "metadata": {
    "collapsed": true
   },
   "source": [
    "# Imports"
   ]
  },
  {
   "cell_type": "code",
   "execution_count": 1,
   "metadata": {},
   "outputs": [],
   "source": [
    "from math import ceil\n",
    "from time import sleep\n",
    "from random import randint\n",
    "from bs4 import BeautifulSoup\n",
    "\n",
    "\n",
    "from selenium import webdriver\n",
    "from selenium.common.exceptions import NoSuchElementException\n",
    "from selenium.webdriver.support import expected_conditions as EC\n",
    "from selenium.webdriver.support.ui import WebDriverWait\n",
    "from selenium.webdriver.common.by import By\n",
    "from webdriver_manager.chrome import ChromeDriverManager\n",
    "\n",
    "import pandas as pd\n",
    "import numpy as np\n",
    "import requests\n",
    "import json\n"
   ]
  },
  {
   "cell_type": "markdown",
   "metadata": {},
   "source": [
    "# Scraping"
   ]
  },
  {
   "cell_type": "markdown",
   "metadata": {},
   "source": [
    "## Config"
   ]
  },
  {
   "cell_type": "code",
   "execution_count": 2,
   "metadata": {},
   "outputs": [],
   "source": [
    "base_url = 'https://www.kisskissbankbank.com'"
   ]
  },
  {
   "cell_type": "markdown",
   "metadata": {},
   "source": [
    "## Getting URLs\n"
   ]
  },
  {
   "cell_type": "code",
   "execution_count": 3,
   "metadata": {},
   "outputs": [],
   "source": [
    "url = f'{base_url}/fr/discover?project[successful]=on&filter=all'\n",
    "\n",
    "response = requests.get(url)\n",
    "soup = BeautifulSoup(response.content, \"html5lib\")\n",
    "\n",
    "script = json.loads(soup.find('script', class_='js-react-on-rails-component').text)\n",
    "nb_projects = script['BROWSING']['projects']['totalCount']\n",
    "\n",
    "nb_pages = ceil(nb_projects/9)"
   ]
  },
  {
   "cell_type": "code",
   "execution_count": 5,
   "metadata": {},
   "outputs": [
    {
     "name": "stderr",
     "output_type": "stream",
     "text": [
      "[WDM] - Current google-chrome version is 83.0.4103\n",
      "[WDM] - Get LATEST driver version for 83.0.4103\n",
      "[WDM] - Driver [C:\\Users\\tangu\\.wdm\\drivers\\chromedriver\\win32\\83.0.4103.39\\chromedriver.exe] found in cache\n"
     ]
    },
    {
     "name": "stdout",
     "output_type": "stream",
     "text": [
      " \n",
      "Page 100 / 2491 treated\n",
      "Page 200 / 2491 treated\n",
      "Page 300 / 2491 treated\n",
      "Page 400 / 2491 treated\n",
      "Page 500 / 2491 treated\n",
      "Page 600 / 2491 treated\n",
      "Page 700 / 2491 treated\n",
      "Page 800 / 2491 treated\n",
      "Page 900 / 2491 treated\n",
      "Page 1000 / 2491 treated\n",
      "Page 1100 / 2491 treated\n",
      "Page 1200 / 2491 treated\n",
      "Page 1300 / 2491 treated\n",
      "Page 1400 / 2491 treated\n",
      "Page 1500 / 2491 treated\n",
      "Page 1600 / 2491 treated\n",
      "Page 1700 / 2491 treated\n",
      "Page 1800 / 2491 treated\n",
      "Page 1900 / 2491 treated\n",
      "Page 2000 / 2491 treated\n",
      "Page 2100 / 2491 treated\n",
      "Page 2200 / 2491 treated\n",
      "Page 2300 / 2491 treated\n",
      "Page 2400 / 2491 treated\n"
     ]
    }
   ],
   "source": [
    "links = []\n",
    "browser = webdriver.Chrome(ChromeDriverManager().install())\n",
    "wait = WebDriverWait(browser, 100)\n",
    "\n",
    "for page_number in range(1, nb_pages+1):\n",
    "    url = f'{base_url}/fr/discover?filter=all&project[successful]=on&page={page_number}'\n",
    "    browser.get(url)\n",
    "    sleep(2)\n",
    "    \n",
    "    for item in wait.until(EC.presence_of_all_elements_located((By.CSS_SELECTOR, 'div.k-LegoGrid__item__content>a'))): \n",
    "        cats = item.find_element_by_css_selector('div.k-CrowdfundingCard__subtitle__container>p>span>span>span').text\n",
    "        links.append({'url': item.get_attribute('href'), 'cats': cats})\n",
    "    \n",
    "    if page_number % 100 == 0:\n",
    "        print(f'Page {page_number} / {nb_pages+1} treated')"
   ]
  },
  {
   "cell_type": "code",
   "execution_count": 11,
   "metadata": {},
   "outputs": [],
   "source": [
    "pd.DataFrame(links).drop_duplicates('url', keep='first').to_pickle('Data/links.pkl')"
   ]
  },
  {
   "cell_type": "code",
   "execution_count": 7,
   "metadata": {},
   "outputs": [
    {
     "data": {
      "text/plain": [
       "(22410, 2)"
      ]
     },
     "execution_count": 7,
     "metadata": {},
     "output_type": "execute_result"
    }
   ],
   "source": [
    "df = pd.DataFrame(links)\n",
    "df.shape"
   ]
  },
  {
   "cell_type": "code",
   "execution_count": 8,
   "metadata": {},
   "outputs": [
    {
     "data": {
      "text/plain": [
       "21816"
      ]
     },
     "execution_count": 8,
     "metadata": {},
     "output_type": "execute_result"
    }
   ],
   "source": [
    "len(list(df.url.unique()))"
   ]
  }
 ],
 "metadata": {
  "kernelspec": {
   "display_name": "Python 3",
   "language": "python",
   "name": "python3"
  },
  "language_info": {
   "codemirror_mode": {
    "name": "ipython",
    "version": 3
   },
   "file_extension": ".py",
   "mimetype": "text/x-python",
   "name": "python",
   "nbconvert_exporter": "python",
   "pygments_lexer": "ipython3",
   "version": "3.7.4"
  }
 },
 "nbformat": 4,
 "nbformat_minor": 1
}

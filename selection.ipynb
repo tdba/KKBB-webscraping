{
 "cells": [
  {
   "cell_type": "markdown",
   "metadata": {},
   "source": [
    "# Imports "
   ]
  },
  {
   "cell_type": "markdown",
   "metadata": {},
   "source": [
    "## Modules"
   ]
  },
  {
   "cell_type": "code",
   "execution_count": 1,
   "metadata": {},
   "outputs": [],
   "source": [
    "import pandas as pd\n",
    "import numpy as np\n",
    "import pickle"
   ]
  },
  {
   "cell_type": "markdown",
   "metadata": {},
   "source": [
    "## Data & Constants"
   ]
  },
  {
   "cell_type": "code",
   "execution_count": 2,
   "metadata": {},
   "outputs": [],
   "source": [
    "with open('data/campaigns.pkl', 'rb') as f:\n",
    "    projects = pickle.load(f)"
   ]
  },
  {
   "cell_type": "code",
   "execution_count": 3,
   "metadata": {},
   "outputs": [],
   "source": [
    "STIMULI = ['continuez', 'partager', 'partagez', 'on compte sur vous', 'parlez', 'likez', 'contribuer', 'contribuez',\n",
    "           'aidez', 'soutenez', 'share', 'likez', 'donnez', 'persuadez', 'j-']"
   ]
  },
  {
   "cell_type": "markdown",
   "metadata": {},
   "source": [
    "# Data Manipulation"
   ]
  },
  {
   "cell_type": "markdown",
   "metadata": {},
   "source": [
    "## Filling Attributes"
   ]
  },
  {
   "cell_type": "code",
   "execution_count": 4,
   "metadata": {},
   "outputs": [],
   "source": [
    "for p in projects:\n",
    "    # ACTUALITIES\n",
    "    for actu in p.actualities:\n",
    "        if actu.date > p.end_date:\n",
    "            actu.kind = 'oos'\n",
    "        else:\n",
    "            if any(stimulus in text for stimulus in STIMULI for text in [actu.content.lower(), actu.title.lower()]):\n",
    "                actu.kind = 'pers'\n",
    "                p.num_pers += 1\n",
    "            else:\n",
    "                actu.kind = 'inf'\n",
    "                p.num_info += 1\n",
    "    p.nb_actus = p.num_info + p.num_pers"
   ]
  },
  {
   "cell_type": "markdown",
   "metadata": {},
   "source": [
    "## Sorting Campaigns"
   ]
  },
  {
   "cell_type": "code",
   "execution_count": 5,
   "metadata": {},
   "outputs": [],
   "source": [
    "kept_projects = [p for p in projects if type(p.aimed_amount) is not str and p.end_date > pd.to_datetime('01-01-2015')]"
   ]
  },
  {
   "cell_type": "code",
   "execution_count": 6,
   "metadata": {},
   "outputs": [],
   "source": [
    "sorted_projects = sorted(kept_projects, key=lambda p: p.nb_actus, reverse=True)"
   ]
  },
  {
   "cell_type": "markdown",
   "metadata": {},
   "source": [
    "# Exporting Data"
   ]
  },
  {
   "cell_type": "code",
   "execution_count": 28,
   "metadata": {},
   "outputs": [],
   "source": [
    "sample_size = 250\n",
    "with open('data/selected_campaigns.pkl', 'wb') as f:\n",
    "    pickle.dump(sorted_projects[:sample_size], f)"
   ]
  }
 ],
 "metadata": {
  "kernelspec": {
   "display_name": "Python 3",
   "language": "python",
   "name": "python3"
  },
  "language_info": {
   "codemirror_mode": {
    "name": "ipython",
    "version": 3
   },
   "file_extension": ".py",
   "mimetype": "text/x-python",
   "name": "python",
   "nbconvert_exporter": "python",
   "pygments_lexer": "ipython3",
   "version": "3.7.4"
  }
 },
 "nbformat": 4,
 "nbformat_minor": 2
}
